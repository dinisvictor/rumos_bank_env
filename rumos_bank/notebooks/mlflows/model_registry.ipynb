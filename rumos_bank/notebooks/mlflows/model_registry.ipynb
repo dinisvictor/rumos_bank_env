{
 "cells": [
  {
   "cell_type": "markdown",
   "metadata": {},
   "source": [
    "Após a execução do notebook rumos_bank_lending_prediction.ipynb e a verificação de que o conjunto de dados foi corretamente carregado, confirmou-se que o pré-processamento está a funcionar adequadamente. O modelo foi treinado sem erros, gerando as respetivas métricas de desempenho e resultando na escolha do modelo Random Forest."
   ]
  },
  {
   "cell_type": "markdown",
   "metadata": {},
   "source": [
    "A primeira ação a realizar é, efetivamente, iniciar uma experiência. Cada experiência estará associada a um conjunto de runs. Recomenda-se agrupar na mesma experiência todas as runs que se pretende comparar. Mesmo quando se utilizam modelos distintos, caso estes sejam aplicados aos mesmos dados, será útil compará-los. Por esse motivo, devem ser incluídos na mesma experiência. \n",
    "Adicionalmente, sempre que existam novos dados para treino relativamente ao mesmo problema, é recomendável utilizar a mesma experiência, de modo a possibilitar a comparação com os resultados anteriores."
   ]
  },
  {
   "cell_type": "code",
   "execution_count": 19,
   "metadata": {},
   "outputs": [],
   "source": [
    "import mlflow"
   ]
  },
  {
   "cell_type": "code",
   "execution_count": null,
   "metadata": {},
   "outputs": [],
   "source": [
    "import os\n",
    "import mlflow\n",
    "import mlflow.sklearn\n",
    "import pandas as pd\n",
    "import numpy as np\n",
    "import joblib\n",
    "from sklearn.metrics import accuracy_score, confusion_matrix\n",
    "from sklearn.ensemble import RandomForestClassifier\n",
    "from sklearn.preprocessing import MinMaxScaler\n",
    "from sklearn.model_selection import train_test_split\n",
    "from mlflow.models import infer_signature\n",
    "from sklearn.model_selection import GridSearchCV"
   ]
  },
  {
   "cell_type": "code",
   "execution_count": 21,
   "metadata": {},
   "outputs": [
    {
     "name": "stdout",
     "output_type": "stream",
     "text": [
      "Usando dataset em: /Users/dinisguerreiro/Documents/Documentos/Cursos/Data Analysis/Operacionalização de Machine Learning/OML-trabalho-master/rumos_bank/data/lending_data.csv\n"
     ]
    }
   ],
   "source": [
    "# Obter o diretório raiz do projeto (sobe dois níveis a partir da pasta onde o script está a correr)\n",
    "root_dir = os.path.abspath(os.path.join(os.getcwd(), \"../..\"))\n",
    "\n",
    "# Verifica se estamos dentro de um container Docker\n",
    "if os.getenv(\"DOCKER_ENV\"):\n",
    "    dataset_path = \"/app/data/lending_data.csv\"  # Caminho dentro do Docker\n",
    "else:\n",
    "    dataset_path = os.path.join(root_dir, \"data/lending_data.csv\")  # Caminho local\n",
    "\n",
    "print(\"Usando dataset em:\", dataset_path)\n",
    "\n",
    "# Testar se o ficheiro realmente existe antes de carregar\n",
    "if not os.path.exists(dataset_path):\n",
    "    raise FileNotFoundError(f\" O ficheiro não foi encontrado: {dataset_path}\")\n",
    "\n",
    "# Carregar o dataset\n",
    "df = pd.read_csv(dataset_path)\n",
    "seed = 42"
   ]
  },
  {
   "cell_type": "markdown",
   "metadata": {},
   "source": [
    "## Definir a diretoria onde as experiências são guardadas"
   ]
  },
  {
   "cell_type": "code",
   "execution_count": 22,
   "metadata": {},
   "outputs": [],
   "source": [
    "from pathlib import Path\n",
    "\n",
    "uri = \"http://0.0.0.0:5001\"\n",
    "\n",
    "mlflow.set_tracking_uri(uri)\n",
    "#mlflow.set_tracking_uri(\"file:///Users/dinisguerreiro/Documents/Documentos/Cursos/Data Analysis/Operacionalização de Machine Learning/OML-trabalho-master/mlruns\")"
   ]
  },
  {
   "cell_type": "code",
   "execution_count": 23,
   "metadata": {},
   "outputs": [
    {
     "name": "stdout",
     "output_type": "stream",
     "text": [
      "Tracking URI: http://0.0.0.0:5001\n"
     ]
    }
   ],
   "source": [
    "import mlflow\n",
    "print(\"Tracking URI:\", mlflow.get_tracking_uri())"
   ]
  },
  {
   "cell_type": "markdown",
   "metadata": {},
   "source": [
    "## Fazer set da experiência \"Rumos Bank - Bad Payer Prediction\""
   ]
  },
  {
   "cell_type": "code",
   "execution_count": 24,
   "metadata": {},
   "outputs": [
    {
     "data": {
      "text/plain": [
       "<Experiment: artifact_location='mlflow-artifacts:/245331381971867597', creation_time=1742248655797, experiment_id='245331381971867597', last_update_time=1742248655797, lifecycle_stage='active', name='Rumos Bank - Bad Payer Prediction', tags={}>"
      ]
     },
     "execution_count": 24,
     "metadata": {},
     "output_type": "execute_result"
    }
   ],
   "source": [
    "mlflow.set_experiment(\"Rumos Bank - Bad Payer Prediction\")"
   ]
  },
  {
   "cell_type": "markdown",
   "metadata": {},
   "source": [
    "## Carregar o dataset"
   ]
  },
  {
   "cell_type": "code",
   "execution_count": 25,
   "metadata": {},
   "outputs": [],
   "source": [
    "df = pd.read_csv(dataset_path)"
   ]
  },
  {
   "cell_type": "markdown",
   "metadata": {},
   "source": [
    "## Criar os datasets"
   ]
  },
  {
   "cell_type": "code",
   "execution_count": 26,
   "metadata": {},
   "outputs": [],
   "source": [
    "# Remover coluna ID (se existir)\n",
    "if \"ID\" in df.columns:\n",
    "    df = df.drop(\"ID\", axis=1)\n",
    "\n",
    "# Definir features e target\n",
    "TARGET_COL = \"default.payment.next.month\"\n",
    "X = df.drop(columns=[TARGET_COL])\n",
    "y = df[TARGET_COL]\n",
    "\n",
    "# Dividir treino e teste\n",
    "X_train, X_test, y_train, y_test = train_test_split(X, y, test_size=0.2, random_state=42)\n",
    "\n",
    "# Normalização\n",
    "scaler = MinMaxScaler()\n",
    "X_train = scaler.fit_transform(X_train)\n",
    "X_test = scaler.transform(X_test)\n"
   ]
  },
  {
   "cell_type": "markdown",
   "metadata": {},
   "source": [
    "## Criar uma run"
   ]
  },
  {
   "cell_type": "code",
   "execution_count": 27,
   "metadata": {},
   "outputs": [
    {
     "data": {
      "text/plain": [
       "'730cc90a5e6e421b801968d6b2c99cdc'"
      ]
     },
     "execution_count": 27,
     "metadata": {},
     "output_type": "execute_result"
    }
   ],
   "source": [
    "run = mlflow.start_run(run_name=\"Random Forest Run\")\n",
    "RUN_ID = run.info.run_uuid\n",
    "RUN_ID"
   ]
  },
  {
   "cell_type": "markdown",
   "metadata": {},
   "source": [
    "## Guardar datasets, modelos, artefactos, métricas e parametros da run"
   ]
  },
  {
   "cell_type": "code",
   "execution_count": 28,
   "metadata": {},
   "outputs": [],
   "source": [
    "def total_cost(y_true, y_proba, threshold=0.3):\n",
    "    \"\"\"\n",
    "    Calcula o custo total baseado na matriz de confusão.\n",
    "    Falsos Positivos (FP) custam 1000€ e Falsos Negativos (FN) custam 3000€.\n",
    "    \"\"\"\n",
    "    y_pred = (y_proba >= threshold).astype(int)\n",
    "    tn, fp, fn, tp = confusion_matrix(y_true, y_pred).ravel()\n",
    "    return (fp * 1000) + (fn * 3000)"
   ]
  },
  {
   "cell_type": "code",
   "execution_count": 31,
   "metadata": {},
   "outputs": [],
   "source": [
    "mlflow.end_run()"
   ]
  },
  {
   "cell_type": "code",
   "execution_count": 32,
   "metadata": {},
   "outputs": [
    {
     "name": "stdout",
     "output_type": "stream",
     "text": [
      "🏃 View run Random Forest Run at: http://0.0.0.0:5001/#/experiments/245331381971867597/runs/a1ce2f6fc5a14fb2923ede44e81b9a2d\n",
      "🧪 View experiment at: http://0.0.0.0:5001/#/experiments/245331381971867597\n"
     ]
    },
    {
     "ename": "NameError",
     "evalue": "name 'GridSearchCV' is not defined",
     "output_type": "error",
     "traceback": [
      "\u001b[0;31m---------------------------------------------------------------------------\u001b[0m",
      "\u001b[0;31mNameError\u001b[0m                                 Traceback (most recent call last)",
      "Cell \u001b[0;32mIn[32], line 11\u001b[0m\n\u001b[1;32m      9\u001b[0m rf \u001b[38;5;241m=\u001b[39m RandomForestClassifier(random_state\u001b[38;5;241m=\u001b[39m\u001b[38;5;241m42\u001b[39m, class_weight\u001b[38;5;241m=\u001b[39m\u001b[38;5;124m\"\u001b[39m\u001b[38;5;124mbalanced\u001b[39m\u001b[38;5;124m\"\u001b[39m)\n\u001b[1;32m     10\u001b[0m param_grid \u001b[38;5;241m=\u001b[39m {\u001b[38;5;124m'\u001b[39m\u001b[38;5;124mn_estimators\u001b[39m\u001b[38;5;124m'\u001b[39m: [\u001b[38;5;241m10\u001b[39m, \u001b[38;5;241m100\u001b[39m, \u001b[38;5;241m300\u001b[39m, \u001b[38;5;241m1000\u001b[39m]}\n\u001b[0;32m---> 11\u001b[0m clf_rf \u001b[38;5;241m=\u001b[39m \u001b[43mGridSearchCV\u001b[49m(rf, param_grid, cv\u001b[38;5;241m=\u001b[39m\u001b[38;5;241m5\u001b[39m, scoring\u001b[38;5;241m=\u001b[39m\u001b[38;5;124m'\u001b[39m\u001b[38;5;124maccuracy\u001b[39m\u001b[38;5;124m'\u001b[39m)\n\u001b[1;32m     12\u001b[0m clf_rf\u001b[38;5;241m.\u001b[39mfit(X_train, y_train)\n\u001b[1;32m     14\u001b[0m \u001b[38;5;66;03m# Melhor modelo\u001b[39;00m\n",
      "\u001b[0;31mNameError\u001b[0m: name 'GridSearchCV' is not defined"
     ]
    }
   ],
   "source": [
    "# Iniciar uma run no MLflow\n",
    "with mlflow.start_run(run_name=\"Random Forest Run\") as run:\n",
    "    RUN_ID = run.info.run_uuid\n",
    "\n",
    "    # Guardar a seed\n",
    "    mlflow.log_param(\"seed\", 42)\n",
    "\n",
    "    # Criar e treinar o modelo Random Forest com GridSearch\n",
    "    rf = RandomForestClassifier(random_state=42, class_weight=\"balanced\")\n",
    "    param_grid = {'n_estimators': [10, 100, 300, 1000]}\n",
    "    clf_rf = GridSearchCV(rf, param_grid, cv=5, scoring='accuracy')\n",
    "    clf_rf.fit(X_train, y_train)\n",
    "\n",
    "    # Melhor modelo\n",
    "    best_rf = clf_rf.best_estimator_\n",
    "\n",
    "    # Fazer previsões\n",
    "    y_preds_proba = clf_rf.predict_proba(X_test)[:, 1]\n",
    "\n",
    "    # Definir custo total (se a função existir)\n",
    "    total_cost_value = total_cost(y_test, y_preds_proba, threshold=0.3)\n",
    "\n",
    "    # Converter previsões probabilísticas em classes binárias\n",
    "    y_preds = (y_preds_proba >= 0.3).astype(int)\n",
    "\n",
    "    # Calcular métricas\n",
    "    accuracy = accuracy_score(y_test, y_preds)\n",
    "\n",
    "    # Guardar hiperparâmetros e métricas no MLflow\n",
    "    mlflow.log_params(clf_rf.best_params_)\n",
    "    mlflow.log_metric(\"accuracy\", accuracy)\n",
    "    mlflow.log_metric(\"total_cost\", total_cost_value)\n",
    "\n",
    "    # Criar assinatura do modelo\n",
    "    input_example = X_test[:5]\n",
    "    signature = infer_signature(X_test, best_rf.predict(X_test))\n",
    "\n",
    "    # Registrar o modelo no MLflow\n",
    "    mlflow.sklearn.log_model(\n",
    "        best_rf,\n",
    "        artifact_path=\"random_forest_model\",\n",
    "        registered_model_name=\"RandomForest_Optimized\",\n",
    "        signature=signature,\n",
    "        input_example=input_example\n",
    "    )\n",
    "\n",
    "    print(f\"Modelo registrado com sucesso! Accuracy: {accuracy}, Custo Total: {total_cost_value}\")\n"
   ]
  },
  {
   "cell_type": "code",
   "execution_count": null,
   "metadata": {},
   "outputs": [],
   "source": []
  },
  {
   "cell_type": "markdown",
   "metadata": {},
   "source": [
    "## Terminar a run"
   ]
  },
  {
   "cell_type": "code",
   "execution_count": 30,
   "metadata": {},
   "outputs": [
    {
     "name": "stdout",
     "output_type": "stream",
     "text": [
      "🏃 View run Random Forest Run at: http://0.0.0.0:5001/#/experiments/245331381971867597/runs/730cc90a5e6e421b801968d6b2c99cdc\n",
      "🧪 View experiment at: http://0.0.0.0:5001/#/experiments/245331381971867597\n"
     ]
    }
   ],
   "source": [
    "mlflow.end_run()"
   ]
  },
  {
   "cell_type": "markdown",
   "metadata": {},
   "source": [
    "## Consultar uma run já concluida"
   ]
  },
  {
   "cell_type": "code",
   "execution_count": null,
   "metadata": {},
   "outputs": [],
   "source": [
    "run = mlflow.get_run(RUN_ID)"
   ]
  },
  {
   "cell_type": "code",
   "execution_count": null,
   "metadata": {},
   "outputs": [
    {
     "data": {
      "text/plain": [
       "<RunData: metrics={'accuracy': 0.814, 'total_cost': 2856000.0}, params={'bootstrap': 'True',\n",
       " 'ccp_alpha': '0.0',\n",
       " 'class_weight': 'balanced',\n",
       " 'criterion': 'gini',\n",
       " 'max_depth': 'None',\n",
       " 'max_features': 'sqrt',\n",
       " 'max_leaf_nodes': 'None',\n",
       " 'max_samples': 'None',\n",
       " 'min_impurity_decrease': '0.0',\n",
       " 'min_samples_leaf': '1',\n",
       " 'min_samples_split': '2',\n",
       " 'min_weight_fraction_leaf': '0.0',\n",
       " 'monotonic_cst': 'None',\n",
       " 'n_estimators': '300',\n",
       " 'n_jobs': 'None',\n",
       " 'oob_score': 'False',\n",
       " 'random_state': '42',\n",
       " 'seed': '42',\n",
       " 'verbose': '0',\n",
       " 'warm_start': 'False'}, tags={'mlflow.log-model.history': '[{\"run_id\": \"8b9c4dd3c68c462a922dfaf006bd5074\", '\n",
       "                             '\"artifact_path\": \"random_forest_model\", '\n",
       "                             '\"utc_time_created\": \"2025-03-13 '\n",
       "                             '23:38:12.789609\", \"model_uuid\": '\n",
       "                             '\"bd97b35a1c0e49b38520af627fedf210\", \"flavors\": '\n",
       "                             '{\"python_function\": {\"model_path\": \"model.pkl\", '\n",
       "                             '\"predict_fn\": \"predict\", \"loader_module\": '\n",
       "                             '\"mlflow.sklearn\", \"python_version\": \"3.9.21\", '\n",
       "                             '\"env\": {\"conda\": \"conda.yaml\", \"virtualenv\": '\n",
       "                             '\"python_env.yaml\"}}, \"sklearn\": '\n",
       "                             '{\"pickled_model\": \"model.pkl\", '\n",
       "                             '\"sklearn_version\": \"1.6.1\", '\n",
       "                             '\"serialization_format\": \"cloudpickle\", \"code\": '\n",
       "                             'null}}}]',\n",
       " 'mlflow.runName': 'Random Forest Run',\n",
       " 'mlflow.source.name': '/Users/dinisguerreiro/miniconda3/envs/rumos_bank_env/lib/python3.9/site-packages/ipykernel_launcher.py',\n",
       " 'mlflow.source.type': 'LOCAL',\n",
       " 'mlflow.user': 'dinisguerreiro'}>"
      ]
     },
     "execution_count": 214,
     "metadata": {},
     "output_type": "execute_result"
    }
   ],
   "source": [
    "run.data"
   ]
  },
  {
   "cell_type": "code",
   "execution_count": null,
   "metadata": {},
   "outputs": [
    {
     "name": "stdout",
     "output_type": "stream",
     "text": [
      "file:///Users/dinisguerreiro/Documents/Documentos/Cursos/Data%20Analysis/Operacionalizac%CC%A7a%CC%83o%20de%20Machine%20Learning/OML-trabalho-master/mlruns\n"
     ]
    }
   ],
   "source": [
    "print(mlflow.get_tracking_uri())"
   ]
  }
 ],
 "metadata": {
  "kernelspec": {
   "display_name": "rumos_bank_env",
   "language": "python",
   "name": "python3"
  },
  "language_info": {
   "codemirror_mode": {
    "name": "ipython",
    "version": 3
   },
   "file_extension": ".py",
   "mimetype": "text/x-python",
   "name": "python",
   "nbconvert_exporter": "python",
   "pygments_lexer": "ipython3",
   "version": "3.9.21"
  }
 },
 "nbformat": 4,
 "nbformat_minor": 2
}
